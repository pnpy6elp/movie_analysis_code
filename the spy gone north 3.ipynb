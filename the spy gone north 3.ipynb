{
 "cells": [
  {
   "cell_type": "markdown",
   "id": "f7d4bf46",
   "metadata": {},
   "source": [
    "# definition 3"
   ]
  },
  {
   "cell_type": "code",
   "execution_count": 11,
   "id": "335747d3",
   "metadata": {},
   "outputs": [],
   "source": [
    "from keras.preprocessing.text import Tokenizer\n",
    "import codecs\n",
    "from keras.preprocessing.sequence import pad_sequences\n",
    "import numpy as np\n",
    "import nltk\n",
    "from konlpy.tag import Okt\n",
    "from tqdm import tqdm\n",
    "\n",
    "# train set\n",
    "name = \"3\"\n",
    "filename1 = './spy/spy/definition'+name+'_spynorth_scaling_trust.txt'\n",
    "filename2 = './spy/spy/definition'+name+'_spynorth_scaling_untrust.txt'\n",
    "\n",
    "\n",
    "with codecs.open(filename1, 'r', encoding='utf-8') as f:\n",
    "    lines1 = f.readlines()\n",
    "with codecs.open(filename2, 'r', encoding='utf-8') as f:\n",
    "    lines2 = f.readlines()\n",
    "\n",
    "\n",
    "\n",
    "\n",
    "# test set\n",
    "\n",
    "\n",
    "with codecs.open('./spy/spy/definition'+name+'_spynorth_test_t.txt', 'r', 'utf-8') as f:\n",
    "    test1 = f.readlines()\n",
    "with codecs.open('./spy/spy/definition'+name+'_spynorth_test_ut.txt', 'r', 'utf-8') as f:\n",
    "    test2 = f.readlines()\n",
    "\n",
    "\n",
    "    \n",
    "\n"
   ]
  },
  {
   "cell_type": "markdown",
   "id": "932e5a53",
   "metadata": {},
   "source": [
    "## movie 1"
   ]
  },
  {
   "cell_type": "code",
   "execution_count": 12,
   "id": "58f4566f",
   "metadata": {},
   "outputs": [
    {
     "name": "stderr",
     "output_type": "stream",
     "text": [
      "100%|██████████████████████████████████████████████████████████████████████████████| 9120/9120 [27:06<00:00,  5.61it/s]\n",
      "100%|██████████████████████████████████████████████████████████████████████████████| 2280/2280 [08:10<00:00,  4.65it/s]\n"
     ]
    }
   ],
   "source": [
    "lines_t = lines1[:4560]\n",
    "lines_ut = lines2[:4560]\n",
    "test_t = test1[:1140]\n",
    "test_ut = test2[:1140]\n",
    "\n",
    "lines_ = []\n",
    "test_lines_ = []\n",
    "for line in lines_t:\n",
    "    lines_.append(line.strip())\n",
    "\n",
    "for line in lines_ut:\n",
    "    lines_.append(line.strip())\n",
    "\n",
    "for line in test_t:\n",
    "    test_lines_.append(line.strip()) # trust\n",
    "for line in test_ut:\n",
    "    test_lines_.append(line.strip()) # untrust\n",
    "\n",
    "train_labels = [] # train 데이터 label\n",
    "test_labels = [] # test 데이터 label\n",
    "for i in range(len(lines_t)):\n",
    "    train_labels.append(0)\n",
    "for j in range(len(lines_ut)):\n",
    "    train_labels.append(1)\n",
    "for i in range(len(test_t)):\n",
    "    test_labels.append(0)\n",
    "for j in range(len(test_ut)):\n",
    "    test_labels.append(1)\n",
    "    \n",
    "from keras.preprocessing.text import Tokenizer\n",
    "from keras.preprocessing.sequence import pad_sequences\n",
    "import numpy as np\n",
    "\n",
    "okt = Okt()\n",
    "x_train = []\n",
    "x_test = []\n",
    "stopwords = ['의','가','이','은','들','는','좀','잘','걍','과','도','를','으로','자','에','와','한','하다']\n",
    "\n",
    "for sentence in tqdm(lines_):\n",
    "    tokenized_sentence = okt.morphs(sentence, stem=True) # 토큰화\n",
    "    stopwords_removed_sentence = [word for word in tokenized_sentence if not word in stopwords] # 불용어 제거\n",
    "    x_train.append(stopwords_removed_sentence)\n",
    "\n",
    "for sentence in tqdm(test_lines_):\n",
    "    tokenized_sentence = okt.morphs(sentence, stem=True) # 토큰화\n",
    "    stopwords_removed_sentence = [word for word in tokenized_sentence if not word in stopwords] # 불용어 제거\n",
    "    x_test.append(stopwords_removed_sentence)\n",
    "\n",
    "maxlen = 1000  # 100개 단어 이후는 버립니다\n",
    "training_samples = 200  # 훈련 샘플은 200 -> 200개입니다\n",
    "validation_samples = 10000  # 검증 샘플은 10,000개입니다\n",
    "max_words = 10000  # 데이터셋에서 가장 빈도 높은 10,000개의 단어만 사용합니다\n",
    "# train 토큰화\n",
    "tokenizer = Tokenizer(num_words=max_words)\n",
    "tokenizer.fit_on_texts(x_train)\n",
    "sequences = tokenizer.texts_to_sequences(x_train)\n",
    "\n",
    "word_index = tokenizer.word_index\n",
    "train = pad_sequences(sequences,maxlen=maxlen)\n",
    "\n",
    "# test 토큰화\n",
    "tokenizer2 = Tokenizer(num_words=max_words)\n",
    "tokenizer2.fit_on_texts(x_test)\n",
    "sequences2 = tokenizer2.texts_to_sequences(x_test)\n",
    "\n",
    "word_index2 = tokenizer2.word_index\n",
    "test = pad_sequences(sequences2,maxlen=maxlen)\n",
    "\n",
    "train_labels = np.asarray(train_labels)\n",
    "test_labels = np.asarray(test_labels)"
   ]
  },
  {
   "cell_type": "markdown",
   "id": "710ac5c3",
   "metadata": {},
   "source": [
    "### simpleRNN"
   ]
  },
  {
   "cell_type": "code",
   "execution_count": 13,
   "id": "05ae0ce1",
   "metadata": {},
   "outputs": [
    {
     "name": "stdout",
     "output_type": "stream",
     "text": [
      "Epoch 1/10\n",
      "57/57 [==============================] - 19s 265ms/step - loss: 0.6603 - acc: 0.6218 - val_loss: 0.9881 - val_acc: 0.0000e+00\n",
      "Epoch 2/10\n",
      "57/57 [==============================] - 12s 219ms/step - loss: 0.6077 - acc: 0.6760 - val_loss: 1.0389 - val_acc: 0.0795\n",
      "Epoch 3/10\n",
      "57/57 [==============================] - 14s 238ms/step - loss: 0.4950 - acc: 0.7991 - val_loss: 0.9350 - val_acc: 0.3465\n",
      "Epoch 4/10\n",
      "57/57 [==============================] - 14s 245ms/step - loss: 0.3419 - acc: 0.8883 - val_loss: 0.9768 - val_acc: 0.4172\n",
      "Epoch 5/10\n",
      "57/57 [==============================] - 14s 249ms/step - loss: 0.2207 - acc: 0.9516 - val_loss: 1.3425 - val_acc: 0.3109\n",
      "Epoch 6/10\n",
      "57/57 [==============================] - 14s 242ms/step - loss: 0.1168 - acc: 0.9803 - val_loss: 1.2981 - val_acc: 0.4205\n",
      "Epoch 7/10\n",
      "57/57 [==============================] - 14s 241ms/step - loss: 0.0630 - acc: 0.9911 - val_loss: 1.5074 - val_acc: 0.3887\n",
      "Epoch 8/10\n",
      "57/57 [==============================] - 14s 244ms/step - loss: 0.0353 - acc: 0.9955 - val_loss: 1.2789 - val_acc: 0.4995\n",
      "Epoch 9/10\n",
      "57/57 [==============================] - 14s 253ms/step - loss: 0.0291 - acc: 0.9945 - val_loss: 1.7216 - val_acc: 0.4194\n",
      "Epoch 10/10\n",
      "57/57 [==============================] - 15s 264ms/step - loss: 0.0111 - acc: 0.9990 - val_loss: 2.0277 - val_acc: 0.4008\n"
     ]
    },
    {
     "data": {
      "image/png": "[encoded data removed]",
      "text/plain": [
       "<Figure size 432x288 with 1 Axes>"
      ]
     },
     "metadata": {
      "needs_background": "light"
     },
     "output_type": "display_data"
    },
    {
     "data": {
      "image/png": "[encoded data removed]",
      "text/plain": [
       "<Figure size 432x288 with 1 Axes>"
      ]
     },
     "metadata": {
      "needs_background": "light"
     },
     "output_type": "display_data"
    },
    {
     "name": "stdout",
     "output_type": "stream",
     "text": [
      "72/72 [==============================] - 2s 34ms/step - loss: 1.5481 - acc: 0.5009: 0s - loss: 1.3547 \n"
     ]
    },
    {
     "data": {
      "text/plain": [
       "[1.5480825901031494, 0.5008772015571594]"
      ]
     },
     "execution_count": 13,
     "metadata": {},
     "output_type": "execute_result"
    }
   ],
   "source": [
    "from keras.preprocessing import sequence\n",
    "from tensorflow.python.keras.callbacks import EarlyStopping, ModelCheckpoint\n",
    "\n",
    "max_features = 10000  # 특성으로 사용할 단어의 수\n",
    "\n",
    "batch_size = 32\n",
    "input_train = sequence.pad_sequences(train,maxlen=maxlen)\n",
    "input_test = sequence.pad_sequences(test,maxlen=maxlen)\n",
    "\n",
    "from keras.models import Sequential\n",
    "from keras.layers import Embedding, SimpleRNN\n",
    "\n",
    "from keras.layers import Dense\n",
    "\n",
    "model = Sequential()\n",
    "model.add(Embedding(max_features, 32))\n",
    "model.add(SimpleRNN(32))\n",
    "model.add(Dense(1, activation='sigmoid'))\n",
    "mc = ModelCheckpoint('best_simpleRNN1.h5', monitor='val_acc', mode='max', verbose=1, save_best_only=True)\n",
    "model.compile(optimizer='rmsprop', loss='binary_crossentropy', metrics=['acc'])\n",
    "history = model.fit(input_train, train_labels,\n",
    "                    epochs=10,\n",
    "                    batch_size=128,\n",
    "                    validation_split=0.2)\n",
    "\n",
    "import matplotlib.pyplot as plt\n",
    "\n",
    "acc = history.history['acc']\n",
    "val_acc = history.history['val_acc']\n",
    "loss = history.history['loss']\n",
    "val_loss = history.history['val_loss']\n",
    "\n",
    "epochs = range(1, len(acc) + 1)\n",
    "\n",
    "plt.plot(epochs, acc, 'bo', label='Training acc')\n",
    "plt.plot(epochs, val_acc, 'b', label='Validation acc')\n",
    "plt.title('Training and validation accuracy')\n",
    "plt.legend()\n",
    "\n",
    "plt.figure()\n",
    "\n",
    "plt.plot(epochs, loss, 'bo', label='Training loss')\n",
    "plt.plot(epochs, val_loss, 'b', label='Validation loss')\n",
    "plt.title('Training and validation loss')\n",
    "plt.legend()\n",
    "\n",
    "plt.show()\n",
    "\n",
    "model.evaluate(test, test_labels)"
   ]
  },
  {
   "cell_type": "markdown",
   "id": "c8cfb930",
   "metadata": {},
   "source": [
    "### LSTM"
   ]
  },
  {
   "cell_type": "code",
   "execution_count": 14,
   "id": "31ee423f",
   "metadata": {},
   "outputs": [
    {
     "name": "stdout",
     "output_type": "stream",
     "text": [
      "Epoch 1/10\n",
      "57/57 [==============================] - 37s 593ms/step - loss: 0.6468 - acc: 0.6231 - val_loss: 0.8957 - val_acc: 0.0159\n",
      "Epoch 2/10\n",
      "57/57 [==============================] - 31s 540ms/step - loss: 0.6149 - acc: 0.6542 - val_loss: 1.0361 - val_acc: 0.1595\n",
      "Epoch 3/10\n",
      "57/57 [==============================] - 31s 539ms/step - loss: 0.5680 - acc: 0.7208 - val_loss: 1.0114 - val_acc: 0.4227\n",
      "Epoch 4/10\n",
      "57/57 [==============================] - 31s 544ms/step - loss: 0.5012 - acc: 0.7675 - val_loss: 1.0337 - val_acc: 0.4441\n",
      "Epoch 5/10\n",
      "57/57 [==============================] - 30s 535ms/step - loss: 0.4394 - acc: 0.8055 - val_loss: 1.4191 - val_acc: 0.3109\n",
      "Epoch 6/10\n",
      "57/57 [==============================] - 32s 556ms/step - loss: 0.3867 - acc: 0.8339 - val_loss: 0.8999 - val_acc: 0.5713\n",
      "Epoch 7/10\n",
      "57/57 [==============================] - 31s 537ms/step - loss: 0.3405 - acc: 0.8616 - val_loss: 0.8916 - val_acc: 0.5729\n",
      "Epoch 8/10\n",
      "57/57 [==============================] - 31s 547ms/step - loss: 0.3015 - acc: 0.8808 - val_loss: 1.3911 - val_acc: 0.4337\n",
      "Epoch 9/10\n",
      "57/57 [==============================] - 31s 540ms/step - loss: 0.2664 - acc: 0.9009 - val_loss: 1.8160 - val_acc: 0.3394\n",
      "Epoch 10/10\n",
      "57/57 [==============================] - 31s 538ms/step - loss: 0.2397 - acc: 0.9112 - val_loss: 1.3814 - val_acc: 0.4967\n"
     ]
    },
    {
     "data": {
      "image/png": "[encoded data removed]",
      "text/plain": [
       "<Figure size 432x288 with 1 Axes>"
      ]
     },
     "metadata": {
      "needs_background": "light"
     },
     "output_type": "display_data"
    },
    {
     "data": {
      "image/png": "[encoded data removed]",
      "text/plain": [
       "<Figure size 432x288 with 1 Axes>"
      ]
     },
     "metadata": {
      "needs_background": "light"
     },
     "output_type": "display_data"
    },
    {
     "name": "stdout",
     "output_type": "stream",
     "text": [
      "72/72 [==============================] - 5s 64ms/step - loss: 1.1825 - acc: 0.5162: 0s - loss: 1.11\n"
     ]
    },
    {
     "data": {
      "text/plain": [
       "[1.1824737787246704, 0.5162280797958374]"
      ]
     },
     "execution_count": 14,
     "metadata": {},
     "output_type": "execute_result"
    }
   ],
   "source": [
    "# LSTM\n",
    "from keras.layers import LSTM\n",
    "from tensorflow.python.keras.callbacks import EarlyStopping, ModelCheckpoint\n",
    "\n",
    "model = Sequential()\n",
    "model.add(Embedding(max_features, 32))\n",
    "model.add(LSTM(32))\n",
    "model.add(Dense(1, activation='sigmoid'))\n",
    "mc = ModelCheckpoint('best_lstm1.h5', monitor='val_acc', mode='max', verbose=1, save_best_only=True)\n",
    "model.compile(optimizer='rmsprop',\n",
    "              loss='binary_crossentropy',\n",
    "              metrics=['acc'])\n",
    "history = model.fit(input_train, train_labels,\n",
    "                    epochs=10,\n",
    "                    batch_size=128,\n",
    "                    validation_split=0.2)\n",
    "\n",
    "import matplotlib.pyplot as plt\n",
    "\n",
    "acc = history.history['acc']\n",
    "val_acc = history.history['val_acc']\n",
    "loss = history.history['loss']\n",
    "val_loss = history.history['val_loss']\n",
    "\n",
    "epochs = range(1, len(acc) + 1)\n",
    "\n",
    "plt.plot(epochs, acc, 'bo', label='Training acc')\n",
    "plt.plot(epochs, val_acc, 'b', label='Validation acc')\n",
    "plt.title('Training and validation accuracy')\n",
    "plt.legend()\n",
    "\n",
    "plt.figure()\n",
    "\n",
    "plt.plot(epochs, loss, 'bo', label='Training loss')\n",
    "plt.plot(epochs, val_loss, 'b', label='Validation loss')\n",
    "plt.title('Training and validation loss')\n",
    "plt.legend()\n",
    "\n",
    "plt.show()\n",
    "\n",
    "model.evaluate(test, test_labels)"
   ]
  },
  {
   "cell_type": "markdown",
   "id": "dd74b4b6",
   "metadata": {},
   "source": [
    "## movie 2"
   ]
  },
  {
   "cell_type": "code",
   "execution_count": 15,
   "id": "22f9ffc4",
   "metadata": {},
   "outputs": [
    {
     "name": "stderr",
     "output_type": "stream",
     "text": [
      "100%|██████████████████████████████████████████████████████████████████████████████| 7520/7520 [21:38<00:00,  5.79it/s]\n",
      "100%|██████████████████████████████████████████████████████████████████████████████| 1880/1880 [06:08<00:00,  5.10it/s]\n"
     ]
    }
   ],
   "source": [
    "lines_t = lines1[:3760]\n",
    "lines_ut = lines2[:3760]\n",
    "test_t = test1[:940]\n",
    "test_ut = test2[:940]\n",
    "\n",
    "lines_ = []\n",
    "test_lines_ = []\n",
    "for line in lines_t:\n",
    "    lines_.append(line.strip())\n",
    "\n",
    "for line in lines_ut:\n",
    "    lines_.append(line.strip())\n",
    "\n",
    "for line in test_t:\n",
    "    test_lines_.append(line.strip()) # trust\n",
    "for line in test_ut:\n",
    "    test_lines_.append(line.strip()) # untrust\n",
    "\n",
    "train_labels = [] # train 데이터 label\n",
    "test_labels = [] # test 데이터 label\n",
    "for i in range(len(lines_t)):\n",
    "    train_labels.append(0)\n",
    "for j in range(len(lines_ut)):\n",
    "    train_labels.append(1)\n",
    "for i in range(len(test_t)):\n",
    "    test_labels.append(0)\n",
    "for j in range(len(test_ut)):\n",
    "    test_labels.append(1)\n",
    "    \n",
    "from keras.preprocessing.text import Tokenizer\n",
    "from keras.preprocessing.sequence import pad_sequences\n",
    "import numpy as np\n",
    "\n",
    "okt = Okt()\n",
    "x_train = []\n",
    "x_test = []\n",
    "stopwords = ['의','가','이','은','들','는','좀','잘','걍','과','도','를','으로','자','에','와','한','하다']\n",
    "\n",
    "for sentence in tqdm(lines_):\n",
    "    tokenized_sentence = okt.morphs(sentence, stem=True) # 토큰화\n",
    "    stopwords_removed_sentence = [word for word in tokenized_sentence if not word in stopwords] # 불용어 제거\n",
    "    x_train.append(stopwords_removed_sentence)\n",
    "\n",
    "for sentence in tqdm(test_lines_):\n",
    "    tokenized_sentence = okt.morphs(sentence, stem=True) # 토큰화\n",
    "    stopwords_removed_sentence = [word for word in tokenized_sentence if not word in stopwords] # 불용어 제거\n",
    "    x_test.append(stopwords_removed_sentence)\n",
    "\n",
    "maxlen = 1000  # 100개 단어 이후는 버립니다\n",
    "training_samples = 200  # 훈련 샘플은 200 -> 200개입니다\n",
    "validation_samples = 10000  # 검증 샘플은 10,000개입니다\n",
    "max_words = 10000  # 데이터셋에서 가장 빈도 높은 10,000개의 단어만 사용합니다\n",
    "# train 토큰화\n",
    "tokenizer = Tokenizer(num_words=max_words)\n",
    "tokenizer.fit_on_texts(x_train)\n",
    "sequences = tokenizer.texts_to_sequences(x_train)\n",
    "\n",
    "word_index = tokenizer.word_index\n",
    "train = pad_sequences(sequences,maxlen=maxlen)\n",
    "\n",
    "# test 토큰화\n",
    "tokenizer2 = Tokenizer(num_words=max_words)\n",
    "tokenizer2.fit_on_texts(x_test)\n",
    "sequences2 = tokenizer2.texts_to_sequences(x_test)\n",
    "\n",
    "word_index2 = tokenizer2.word_index\n",
    "test = pad_sequences(sequences2,maxlen=maxlen)\n",
    "\n",
    "train_labels = np.asarray(train_labels)\n",
    "test_labels = np.asarray(test_labels)"
   ]
  },
  {
   "cell_type": "markdown",
   "id": "44fdaa81",
   "metadata": {},
   "source": [
    "### simpleRNN"
   ]
  },
  {
   "cell_type": "code",
   "execution_count": 16,
   "id": "7cafcec8",
   "metadata": {},
   "outputs": [
    {
     "name": "stdout",
     "output_type": "stream",
     "text": [
      "Epoch 1/10\n",
      "47/47 [==============================] - 16s 262ms/step - loss: 0.6627 - acc: 0.6067 - val_loss: 0.8897 - val_acc: 0.0346\n",
      "Epoch 2/10\n",
      "47/47 [==============================] - 10s 223ms/step - loss: 0.6161 - acc: 0.6566 - val_loss: 0.9380 - val_acc: 0.1543\n",
      "Epoch 3/10\n",
      "47/47 [==============================] - 11s 230ms/step - loss: 0.5464 - acc: 0.7487 - val_loss: 0.9908 - val_acc: 0.2520\n",
      "Epoch 4/10\n",
      "47/47 [==============================] - 11s 230ms/step - loss: 0.4394 - acc: 0.8431 - val_loss: 0.9071 - val_acc: 0.3949\n",
      "Epoch 5/10\n",
      "47/47 [==============================] - 10s 220ms/step - loss: 0.3176 - acc: 0.9124 - val_loss: 1.0383 - val_acc: 0.3750\n",
      "Epoch 6/10\n",
      "47/47 [==============================] - 11s 224ms/step - loss: 0.2051 - acc: 0.9563 - val_loss: 1.2349 - val_acc: 0.3770\n",
      "Epoch 7/10\n",
      "47/47 [==============================] - 10s 223ms/step - loss: 0.1236 - acc: 0.9794 - val_loss: 1.0203 - val_acc: 0.4967\n",
      "Epoch 8/10\n",
      "47/47 [==============================] - 11s 226ms/step - loss: 0.0767 - acc: 0.9902 - val_loss: 1.3068 - val_acc: 0.4249\n",
      "Epoch 9/10\n",
      "47/47 [==============================] - 11s 235ms/step - loss: 0.0444 - acc: 0.9943 - val_loss: 1.4861 - val_acc: 0.3910\n",
      "Epoch 10/10\n",
      "47/47 [==============================] - 10s 218ms/step - loss: 0.0267 - acc: 0.9973 - val_loss: 1.5217 - val_acc: 0.4215\n"
     ]
    },
    {
     "data": {
      "image/png": "[encoded data removed]",
      "text/plain": [
       "<Figure size 432x288 with 1 Axes>"
      ]
     },
     "metadata": {
      "needs_background": "light"
     },
     "output_type": "display_data"
    },
    {
     "data": {
      "image/png": "[encoded data removed]",
      "text/plain": [
       "<Figure size 432x288 with 1 Axes>"
      ]
     },
     "metadata": {
      "needs_background": "light"
     },
     "output_type": "display_data"
    },
    {
     "name": "stdout",
     "output_type": "stream",
     "text": [
      "59/59 [==============================] - 2s 33ms/step - loss: 1.2123 - acc: 0.5298\n"
     ]
    },
    {
     "data": {
      "text/plain": [
       "[1.2122712135314941, 0.5297872424125671]"
      ]
     },
     "execution_count": 16,
     "metadata": {},
     "output_type": "execute_result"
    }
   ],
   "source": [
    "from keras.preprocessing import sequence\n",
    "from tensorflow.python.keras.callbacks import EarlyStopping, ModelCheckpoint\n",
    "\n",
    "max_features = 10000  # 특성으로 사용할 단어의 수\n",
    "\n",
    "batch_size = 32\n",
    "input_train = sequence.pad_sequences(train,maxlen=maxlen)\n",
    "input_test = sequence.pad_sequences(test,maxlen=maxlen)\n",
    "\n",
    "from keras.models import Sequential\n",
    "from keras.layers import Embedding, SimpleRNN\n",
    "\n",
    "from keras.layers import Dense\n",
    "\n",
    "model = Sequential()\n",
    "model.add(Embedding(max_features, 32))\n",
    "model.add(SimpleRNN(32))\n",
    "model.add(Dense(1, activation='sigmoid'))\n",
    "mc = ModelCheckpoint('best_simpleRNN1.h5', monitor='val_acc', mode='max', verbose=1, save_best_only=True)\n",
    "model.compile(optimizer='rmsprop', loss='binary_crossentropy', metrics=['acc'])\n",
    "history = model.fit(input_train, train_labels,\n",
    "                    epochs=10,\n",
    "                    batch_size=128,\n",
    "                    validation_split=0.2)\n",
    "\n",
    "import matplotlib.pyplot as plt\n",
    "\n",
    "acc = history.history['acc']\n",
    "val_acc = history.history['val_acc']\n",
    "loss = history.history['loss']\n",
    "val_loss = history.history['val_loss']\n",
    "\n",
    "epochs = range(1, len(acc) + 1)\n",
    "\n",
    "plt.plot(epochs, acc, 'bo', label='Training acc')\n",
    "plt.plot(epochs, val_acc, 'b', label='Validation acc')\n",
    "plt.title('Training and validation accuracy')\n",
    "plt.legend()\n",
    "\n",
    "plt.figure()\n",
    "\n",
    "plt.plot(epochs, loss, 'bo', label='Training loss')\n",
    "plt.plot(epochs, val_loss, 'b', label='Validation loss')\n",
    "plt.title('Training and validation loss')\n",
    "plt.legend()\n",
    "\n",
    "plt.show()\n",
    "\n",
    "model.evaluate(test, test_labels)"
   ]
  },
  {
   "cell_type": "markdown",
   "id": "4d214679",
   "metadata": {},
   "source": [
    "### LSTM"
   ]
  },
  {
   "cell_type": "code",
   "execution_count": 17,
   "id": "be972265",
   "metadata": {},
   "outputs": [
    {
     "name": "stdout",
     "output_type": "stream",
     "text": [
      "Epoch 1/10\n",
      "47/47 [==============================] - 28s 529ms/step - loss: 0.6393 - acc: 0.6235 - val_loss: 0.8308 - val_acc: 0.0273\n",
      "Epoch 2/10\n",
      "47/47 [==============================] - 24s 517ms/step - loss: 0.5984 - acc: 0.6671 - val_loss: 1.3374 - val_acc: 0.1117\n",
      "Epoch 3/10\n",
      "47/47 [==============================] - 24s 503ms/step - loss: 0.5616 - acc: 0.7314 - val_loss: 0.8163 - val_acc: 0.5638\n",
      "Epoch 4/10\n",
      "47/47 [==============================] - 23s 501ms/step - loss: 0.5161 - acc: 0.7699 - val_loss: 1.1762 - val_acc: 0.3863\n",
      "Epoch 5/10\n",
      "47/47 [==============================] - 23s 491ms/step - loss: 0.4595 - acc: 0.8022 - val_loss: 0.8374 - val_acc: 0.6090\n",
      "Epoch 6/10\n",
      "47/47 [==============================] - 23s 488ms/step - loss: 0.3911 - acc: 0.8433 - val_loss: 1.2043 - val_acc: 0.4681\n",
      "Epoch 7/10\n",
      "47/47 [==============================] - 23s 487ms/step - loss: 0.3534 - acc: 0.8629 - val_loss: 1.1527 - val_acc: 0.4953\n",
      "Epoch 8/10\n",
      "47/47 [==============================] - 28s 601ms/step - loss: 0.3086 - acc: 0.8866 - val_loss: 1.5214 - val_acc: 0.3850\n",
      "Epoch 9/10\n",
      "47/47 [==============================] - 28s 600ms/step - loss: 0.2798 - acc: 0.8951 - val_loss: 0.9929 - val_acc: 0.6230\n",
      "Epoch 10/10\n",
      "47/47 [==============================] - 28s 589ms/step - loss: 0.2565 - acc: 0.9077 - val_loss: 1.7078 - val_acc: 0.4056\n"
     ]
    },
    {
     "data": {
      "image/png": "[encoded data removed]",
      "text/plain": [
       "<Figure size 432x288 with 1 Axes>"
      ]
     },
     "metadata": {
      "needs_background": "light"
     },
     "output_type": "display_data"
    },
    {
     "data": {
      "image/png": "[encoded data removed]",
      "text/plain": [
       "<Figure size 432x288 with 1 Axes>"
      ]
     },
     "metadata": {
      "needs_background": "light"
     },
     "output_type": "display_data"
    },
    {
     "name": "stdout",
     "output_type": "stream",
     "text": [
      "59/59 [==============================] - 4s 63ms/step - loss: 1.1176 - acc: 0.5670: 1s - loss: \n"
     ]
    },
    {
     "data": {
      "text/plain": [
       "[1.117606282234192, 0.5670212507247925]"
      ]
     },
     "execution_count": 17,
     "metadata": {},
     "output_type": "execute_result"
    }
   ],
   "source": [
    "# LSTM\n",
    "from keras.layers import LSTM\n",
    "from tensorflow.python.keras.callbacks import EarlyStopping, ModelCheckpoint\n",
    "\n",
    "model = Sequential()\n",
    "model.add(Embedding(max_features, 32))\n",
    "model.add(LSTM(32))\n",
    "model.add(Dense(1, activation='sigmoid'))\n",
    "mc = ModelCheckpoint('best_lstm1.h5', monitor='val_acc', mode='max', verbose=1, save_best_only=True)\n",
    "model.compile(optimizer='rmsprop',\n",
    "              loss='binary_crossentropy',\n",
    "              metrics=['acc'])\n",
    "history = model.fit(input_train, train_labels,\n",
    "                    epochs=10,\n",
    "                    batch_size=128,\n",
    "                    validation_split=0.2)\n",
    "\n",
    "import matplotlib.pyplot as plt\n",
    "\n",
    "acc = history.history['acc']\n",
    "val_acc = history.history['val_acc']\n",
    "loss = history.history['loss']\n",
    "val_loss = history.history['val_loss']\n",
    "\n",
    "epochs = range(1, len(acc) + 1)\n",
    "\n",
    "plt.plot(epochs, acc, 'bo', label='Training acc')\n",
    "plt.plot(epochs, val_acc, 'b', label='Validation acc')\n",
    "plt.title('Training and validation accuracy')\n",
    "plt.legend()\n",
    "\n",
    "plt.figure()\n",
    "\n",
    "plt.plot(epochs, loss, 'bo', label='Training loss')\n",
    "plt.plot(epochs, val_loss, 'b', label='Validation loss')\n",
    "plt.title('Training and validation loss')\n",
    "plt.legend()\n",
    "\n",
    "plt.show()\n",
    "\n",
    "model.evaluate(test, test_labels)"
   ]
  },
  {
   "cell_type": "markdown",
   "id": "ee477aa6",
   "metadata": {},
   "source": [
    "## movie3"
   ]
  },
  {
   "cell_type": "code",
   "execution_count": 18,
   "id": "11b7437e",
   "metadata": {},
   "outputs": [
    {
     "name": "stderr",
     "output_type": "stream",
     "text": [
      "100%|██████████████████████████████████████████████████████████████████████████████| 5920/5920 [15:57<00:00,  6.19it/s]\n",
      "100%|██████████████████████████████████████████████████████████████████████████████| 1480/1480 [04:45<00:00,  5.18it/s]\n"
     ]
    }
   ],
   "source": [
    "lines_t = lines1[:2960]\n",
    "lines_ut = lines2[:2960]\n",
    "test_t = test1[:740]\n",
    "test_ut = test2[:740]\n",
    "\n",
    "lines_ = []\n",
    "test_lines_ = []\n",
    "for line in lines_t:\n",
    "    lines_.append(line.strip())\n",
    "\n",
    "for line in lines_ut:\n",
    "    lines_.append(line.strip())\n",
    "\n",
    "for line in test_t:\n",
    "    test_lines_.append(line.strip()) # trust\n",
    "for line in test_ut:\n",
    "    test_lines_.append(line.strip()) # untrust\n",
    "\n",
    "train_labels = [] # train 데이터 label\n",
    "test_labels = [] # test 데이터 label\n",
    "for i in range(len(lines_t)):\n",
    "    train_labels.append(0)\n",
    "for j in range(len(lines_ut)):\n",
    "    train_labels.append(1)\n",
    "for i in range(len(test_t)):\n",
    "    test_labels.append(0)\n",
    "for j in range(len(test_ut)):\n",
    "    test_labels.append(1)\n",
    "    \n",
    "from keras.preprocessing.text import Tokenizer\n",
    "from keras.preprocessing.sequence import pad_sequences\n",
    "import numpy as np\n",
    "\n",
    "okt = Okt()\n",
    "x_train = []\n",
    "x_test = []\n",
    "stopwords = ['의','가','이','은','들','는','좀','잘','걍','과','도','를','으로','자','에','와','한','하다']\n",
    "\n",
    "for sentence in tqdm(lines_):\n",
    "    tokenized_sentence = okt.morphs(sentence, stem=True) # 토큰화\n",
    "    stopwords_removed_sentence = [word for word in tokenized_sentence if not word in stopwords] # 불용어 제거\n",
    "    x_train.append(stopwords_removed_sentence)\n",
    "\n",
    "for sentence in tqdm(test_lines_):\n",
    "    tokenized_sentence = okt.morphs(sentence, stem=True) # 토큰화\n",
    "    stopwords_removed_sentence = [word for word in tokenized_sentence if not word in stopwords] # 불용어 제거\n",
    "    x_test.append(stopwords_removed_sentence)\n",
    "\n",
    "maxlen = 1000  # 100개 단어 이후는 버립니다\n",
    "training_samples = 200  # 훈련 샘플은 200 -> 200개입니다\n",
    "validation_samples = 10000  # 검증 샘플은 10,000개입니다\n",
    "max_words = 10000  # 데이터셋에서 가장 빈도 높은 10,000개의 단어만 사용합니다\n",
    "# train 토큰화\n",
    "tokenizer = Tokenizer(num_words=max_words)\n",
    "tokenizer.fit_on_texts(x_train)\n",
    "sequences = tokenizer.texts_to_sequences(x_train)\n",
    "\n",
    "word_index = tokenizer.word_index\n",
    "train = pad_sequences(sequences,maxlen=maxlen)\n",
    "\n",
    "# test 토큰화\n",
    "tokenizer2 = Tokenizer(num_words=max_words)\n",
    "tokenizer2.fit_on_texts(x_test)\n",
    "sequences2 = tokenizer2.texts_to_sequences(x_test)\n",
    "\n",
    "word_index2 = tokenizer2.word_index\n",
    "test = pad_sequences(sequences2,maxlen=maxlen)\n",
    "\n",
    "train_labels = np.asarray(train_labels)\n",
    "test_labels = np.asarray(test_labels)"
   ]
  },
  {
   "cell_type": "markdown",
   "id": "2db0d7bb",
   "metadata": {},
   "source": [
    "### simpleRNN"
   ]
  },
  {
   "cell_type": "code",
   "execution_count": 19,
   "id": "5fd15862",
   "metadata": {},
   "outputs": [
    {
     "name": "stdout",
     "output_type": "stream",
     "text": [
      "Epoch 1/10\n",
      "37/37 [==============================] - 17s 270ms/step - loss: 0.6510 - acc: 0.6347 - val_loss: 0.9596 - val_acc: 0.0118\n",
      "Epoch 2/10\n",
      "37/37 [==============================] - 9s 233ms/step - loss: 0.6230 - acc: 0.6539 - val_loss: 0.8530 - val_acc: 0.2796\n",
      "Epoch 3/10\n",
      "37/37 [==============================] - 8s 224ms/step - loss: 0.5235 - acc: 0.7889 - val_loss: 0.8419 - val_acc: 0.3682\n",
      "Epoch 4/10\n",
      "37/37 [==============================] - 8s 229ms/step - loss: 0.4276 - acc: 0.8577 - val_loss: 1.4252 - val_acc: 0.0245\n",
      "Epoch 5/10\n",
      "37/37 [==============================] - 9s 235ms/step - loss: 0.3520 - acc: 0.8959 - val_loss: 1.4847 - val_acc: 0.2416\n",
      "Epoch 6/10\n",
      "37/37 [==============================] - 8s 226ms/step - loss: 0.3687 - acc: 0.8564 - val_loss: 1.1594 - val_acc: 0.2593\n",
      "Epoch 7/10\n",
      "37/37 [==============================] - 8s 212ms/step - loss: 0.2038 - acc: 0.9599 - val_loss: 0.8817 - val_acc: 0.5051\n",
      "Epoch 8/10\n",
      "37/37 [==============================] - 9s 235ms/step - loss: 0.1829 - acc: 0.9597 - val_loss: 1.0225 - val_acc: 0.4493\n",
      "Epoch 9/10\n",
      "37/37 [==============================] - 8s 220ms/step - loss: 0.0829 - acc: 0.9886 - val_loss: 1.2271 - val_acc: 0.4164\n",
      "Epoch 10/10\n",
      "37/37 [==============================] - 8s 213ms/step - loss: 0.0498 - acc: 0.9932 - val_loss: 1.2465 - val_acc: 0.4671\n"
     ]
    },
    {
     "data": {
      "image/png": "[encoded data removed]",
      "text/plain": [
       "<Figure size 432x288 with 1 Axes>"
      ]
     },
     "metadata": {
      "needs_background": "light"
     },
     "output_type": "display_data"
    },
    {
     "data": {
      "image/png": "[encoded data removed]",
      "text/plain": [
       "<Figure size 432x288 with 1 Axes>"
      ]
     },
     "metadata": {
      "needs_background": "light"
     },
     "output_type": "display_data"
    },
    {
     "name": "stdout",
     "output_type": "stream",
     "text": [
      "47/47 [==============================] - 1s 28ms/step - loss: 1.0806 - acc: 0.5318\n"
     ]
    },
    {
     "data": {
      "text/plain": [
       "[1.0806273221969604, 0.5317567586898804]"
      ]
     },
     "execution_count": 19,
     "metadata": {},
     "output_type": "execute_result"
    }
   ],
   "source": [
    "from keras.preprocessing import sequence\n",
    "from tensorflow.python.keras.callbacks import EarlyStopping, ModelCheckpoint\n",
    "\n",
    "max_features = 10000  # 특성으로 사용할 단어의 수\n",
    "\n",
    "batch_size = 32\n",
    "input_train = sequence.pad_sequences(train,maxlen=maxlen)\n",
    "input_test = sequence.pad_sequences(test,maxlen=maxlen)\n",
    "\n",
    "from keras.models import Sequential\n",
    "from keras.layers import Embedding, SimpleRNN\n",
    "\n",
    "from keras.layers import Dense\n",
    "\n",
    "model = Sequential()\n",
    "model.add(Embedding(max_features, 32))\n",
    "model.add(SimpleRNN(32))\n",
    "model.add(Dense(1, activation='sigmoid'))\n",
    "mc = ModelCheckpoint('best_simpleRNN1.h5', monitor='val_acc', mode='max', verbose=1, save_best_only=True)\n",
    "model.compile(optimizer='rmsprop', loss='binary_crossentropy', metrics=['acc'])\n",
    "history = model.fit(input_train, train_labels,\n",
    "                    epochs=10,\n",
    "                    batch_size=128,\n",
    "                    validation_split=0.2)\n",
    "\n",
    "import matplotlib.pyplot as plt\n",
    "\n",
    "acc = history.history['acc']\n",
    "val_acc = history.history['val_acc']\n",
    "loss = history.history['loss']\n",
    "val_loss = history.history['val_loss']\n",
    "\n",
    "epochs = range(1, len(acc) + 1)\n",
    "\n",
    "plt.plot(epochs, acc, 'bo', label='Training acc')\n",
    "plt.plot(epochs, val_acc, 'b', label='Validation acc')\n",
    "plt.title('Training and validation accuracy')\n",
    "plt.legend()\n",
    "\n",
    "plt.figure()\n",
    "\n",
    "plt.plot(epochs, loss, 'bo', label='Training loss')\n",
    "plt.plot(epochs, val_loss, 'b', label='Validation loss')\n",
    "plt.title('Training and validation loss')\n",
    "plt.legend()\n",
    "\n",
    "plt.show()\n",
    "\n",
    "model.evaluate(test, test_labels)"
   ]
  },
  {
   "cell_type": "markdown",
   "id": "0de47c93",
   "metadata": {},
   "source": [
    "### LSTM"
   ]
  },
  {
   "cell_type": "code",
   "execution_count": 20,
   "id": "a5993281",
   "metadata": {},
   "outputs": [
    {
     "name": "stdout",
     "output_type": "stream",
     "text": [
      "Epoch 1/10\n",
      "37/37 [==============================] - 26s 593ms/step - loss: 0.6369 - acc: 0.6242 - val_loss: 1.0803 - val_acc: 0.0068\n",
      "Epoch 2/10\n",
      "37/37 [==============================] - 20s 541ms/step - loss: 0.5870 - acc: 0.7143 - val_loss: 1.0545 - val_acc: 0.3505\n",
      "Epoch 3/10\n",
      "37/37 [==============================] - 21s 558ms/step - loss: 0.5425 - acc: 0.7534 - val_loss: 1.0206 - val_acc: 0.4747\n",
      "Epoch 4/10\n",
      "37/37 [==============================] - 20s 552ms/step - loss: 0.4691 - acc: 0.7996 - val_loss: 1.1331 - val_acc: 0.4265\n",
      "Epoch 5/10\n",
      "37/37 [==============================] - 20s 552ms/step - loss: 0.4073 - acc: 0.8315 - val_loss: 0.8572 - val_acc: 0.5735\n",
      "Epoch 6/10\n",
      "37/37 [==============================] - 20s 542ms/step - loss: 0.3530 - acc: 0.8613 - val_loss: 0.8504 - val_acc: 0.6140\n",
      "Epoch 7/10\n",
      "37/37 [==============================] - 20s 553ms/step - loss: 0.3169 - acc: 0.8803 - val_loss: 1.2497 - val_acc: 0.4248\n",
      "Epoch 8/10\n",
      "37/37 [==============================] - 20s 540ms/step - loss: 0.2595 - acc: 0.9111 - val_loss: 1.0835 - val_acc: 0.5608\n",
      "Epoch 9/10\n",
      "37/37 [==============================] - 20s 540ms/step - loss: 0.2378 - acc: 0.9174 - val_loss: 1.2463 - val_acc: 0.4206\n",
      "Epoch 10/10\n",
      "37/37 [==============================] - 20s 540ms/step - loss: 0.2070 - acc: 0.9295 - val_loss: 1.0739 - val_acc: 0.5448\n"
     ]
    },
    {
     "data": {
      "image/png": "[encoded data removed]",
      "text/plain": [
       "<Figure size 432x288 with 1 Axes>"
      ]
     },
     "metadata": {
      "needs_background": "light"
     },
     "output_type": "display_data"
    },
    {
     "data": {
      "image/png": "[encoded data removed]",
      "text/plain": [
       "<Figure size 432x288 with 1 Axes>"
      ]
     },
     "metadata": {
      "needs_background": "light"
     },
     "output_type": "display_data"
    },
    {
     "name": "stdout",
     "output_type": "stream",
     "text": [
      "47/47 [==============================] - 3s 62ms/step - loss: 0.9222 - acc: 0.5385: 1s - lo\n"
     ]
    },
    {
     "data": {
      "text/plain": [
       "[0.9222378134727478, 0.5385135412216187]"
      ]
     },
     "execution_count": 20,
     "metadata": {},
     "output_type": "execute_result"
    }
   ],
   "source": [
    "# LSTM\n",
    "from keras.layers import LSTM\n",
    "from tensorflow.python.keras.callbacks import EarlyStopping, ModelCheckpoint\n",
    "\n",
    "model = Sequential()\n",
    "model.add(Embedding(max_features, 32))\n",
    "model.add(LSTM(32))\n",
    "model.add(Dense(1, activation='sigmoid'))\n",
    "mc = ModelCheckpoint('best_lstm1.h5', monitor='val_acc', mode='max', verbose=1, save_best_only=True)\n",
    "model.compile(optimizer='rmsprop',\n",
    "              loss='binary_crossentropy',\n",
    "              metrics=['acc'])\n",
    "history = model.fit(input_train, train_labels,\n",
    "                    epochs=10,\n",
    "                    batch_size=128,\n",
    "                    validation_split=0.2)\n",
    "\n",
    "import matplotlib.pyplot as plt\n",
    "\n",
    "acc = history.history['acc']\n",
    "val_acc = history.history['val_acc']\n",
    "loss = history.history['loss']\n",
    "val_loss = history.history['val_loss']\n",
    "\n",
    "epochs = range(1, len(acc) + 1)\n",
    "\n",
    "plt.plot(epochs, acc, 'bo', label='Training acc')\n",
    "plt.plot(epochs, val_acc, 'b', label='Validation acc')\n",
    "plt.title('Training and validation accuracy')\n",
    "plt.legend()\n",
    "\n",
    "plt.figure()\n",
    "\n",
    "plt.plot(epochs, loss, 'bo', label='Training loss')\n",
    "plt.plot(epochs, val_loss, 'b', label='Validation loss')\n",
    "plt.title('Training and validation loss')\n",
    "plt.legend()\n",
    "\n",
    "plt.show()\n",
    "\n",
    "model.evaluate(test, test_labels)"
   ]
  },
  {
   "cell_type": "markdown",
   "id": "75b395f9",
   "metadata": {},
   "source": [
    "# definition 2"
   ]
  },
  {
   "cell_type": "code",
   "execution_count": null,
   "id": "2e9d8141",
   "metadata": {},
   "outputs": [],
   "source": []
  }
 ],
 "metadata": {
  "kernelspec": {
   "display_name": "Python 3 (ipykernel)",
   "language": "python",
   "name": "python3"
  },
  "language_info": {
   "codemirror_mode": {
    "name": "ipython",
    "version": 3
   },
   "file_extension": ".py",
   "mimetype": "text/x-python",
   "name": "python",
   "nbconvert_exporter": "python",
   "pygments_lexer": "ipython3",
   "version": "3.9.7"
  },
  "toc": {
   "base_numbering": 1,
   "nav_menu": {},
   "number_sections": true,
   "sideBar": true,
   "skip_h1_title": false,
   "title_cell": "Table of Contents",
   "title_sidebar": "Contents",
   "toc_cell": false,
   "toc_position": {},
   "toc_section_display": true,
   "toc_window_display": true
  }
 },
 "nbformat": 4,
 "nbformat_minor": 5
}
