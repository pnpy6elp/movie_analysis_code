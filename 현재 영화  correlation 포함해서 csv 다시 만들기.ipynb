{
 "cells": [
  {
   "cell_type": "code",
   "execution_count": 5,
   "id": "3a1d4f06",
   "metadata": {},
   "outputs": [],
   "source": [
    "import pandas as pd\n",
    "import numpy\n",
    "\n",
    "df = pd.read_csv(\"./dataset/gongjo.csv\", sep=\",\")\n",
    "df[\"review\"] = df[\"review\"].str.replace(\",\",\" \")\n",
    "df[\"corr\"] = df[\"rating\"]/10 - df[\"sentiment\"]\n",
    "df[\"corr\"] = df[\"corr\"].abs()\n",
    "df = df.rename(columns={'spearman':'correlation'})\n",
    "df.to_csv('./dataset/gongjo.csv',encoding=\"utf-8-sig\",index=False) \n",
    "\n",
    "df = pd.read_csv(\"./dataset/1987.csv\", sep=\",\")\n",
    "df[\"review\"] = df[\"review\"].str.replace(\",\",\" \")\n",
    "df[\"corr\"] = df[\"rating\"]/10 - df[\"sentiment\"]\n",
    "df[\"corr\"] = df[\"corr\"].abs()\n",
    "df = df.rename(columns={'spearman':'correlation'})\n",
    "df.to_csv('./dataset/1987.csv',encoding=\"utf-8-sig\",index=False) \n",
    "\n",
    "df = pd.read_csv(\"./dataset/assassin.csv\", sep=\",\")\n",
    "df[\"review\"] = df[\"review\"].str.replace(\",\",\" \")\n",
    "df[\"corr\"] = df[\"rating\"]/10 - df[\"sentiment\"]\n",
    "df[\"corr\"] = df[\"corr\"].abs()\n",
    "df = df.rename(columns={'spearman':'correlation'})\n",
    "df.to_csv('./dataset/assassin.csv',encoding=\"utf-8-sig\",index=False) \n",
    "\n",
    "df = pd.read_csv(\"./dataset/intistranger.csv\", sep=\",\")\n",
    "df[\"review\"] = df[\"review\"].str.replace(\",\",\" \")\n",
    "df[\"corr\"] = df[\"rating\"]/10 - df[\"sentiment\"]\n",
    "df[\"corr\"] = df[\"corr\"].abs()\n",
    "df = df.rename(columns={'spearman':'correlation'})\n",
    "df.to_csv('./dataset/intistranger.csv',encoding=\"utf-8-sig\",index=False) \n",
    "\n",
    "df = pd.read_csv(\"./dataset/taxi.csv\", sep=\",\")\n",
    "df[\"review\"] = df[\"review\"].str.replace(\",\",\" \")\n",
    "df[\"corr\"] = df[\"rating\"]/10 - df[\"sentiment\"]\n",
    "df[\"corr\"] = df[\"corr\"].abs()\n",
    "df = df.rename(columns={'spearman':'correlation'})\n",
    "df.to_csv('./dataset/taxi.csv',encoding=\"utf-8-sig\",index=False) \n",
    "\n",
    "df = pd.read_csv(\"./dataset/spynorth.csv\", sep=\",\")\n",
    "df[\"review\"] = df[\"review\"].str.replace(\",\",\" \")\n",
    "df[\"corr\"] = df[\"rating\"]/10 - df[\"sentiment\"]\n",
    "df[\"corr\"] = df[\"corr\"].abs()\n",
    "df = df.rename(columns={'spearman':'correlation'})\n",
    "df.to_csv('./dataset/spynorth.csv',encoding=\"utf-8-sig\",index=False) "
   ]
  },
  {
   "cell_type": "code",
   "execution_count": null,
   "id": "b0372f53",
   "metadata": {},
   "outputs": [],
   "source": []
  }
 ],
 "metadata": {
  "kernelspec": {
   "display_name": "Python 3 (ipykernel)",
   "language": "python",
   "name": "python3"
  },
  "language_info": {
   "codemirror_mode": {
    "name": "ipython",
    "version": 3
   },
   "file_extension": ".py",
   "mimetype": "text/x-python",
   "name": "python",
   "nbconvert_exporter": "python",
   "pygments_lexer": "ipython3",
   "version": "3.9.7"
  },
  "toc": {
   "base_numbering": 1,
   "nav_menu": {},
   "number_sections": true,
   "sideBar": true,
   "skip_h1_title": false,
   "title_cell": "Table of Contents",
   "title_sidebar": "Contents",
   "toc_cell": false,
   "toc_position": {},
   "toc_section_display": true,
   "toc_window_display": false
  }
 },
 "nbformat": 4,
 "nbformat_minor": 5
}
