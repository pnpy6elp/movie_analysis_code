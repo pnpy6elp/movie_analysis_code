{
 "cells": [
  {
   "cell_type": "markdown",
   "id": "f7d4bf46",
   "metadata": {},
   "source": [
    "# definition 2"
   ]
  },
  {
   "cell_type": "code",
   "execution_count": 11,
   "id": "335747d3",
   "metadata": {},
   "outputs": [],
   "source": [
    "from keras.preprocessing.text import Tokenizer\n",
    "import codecs\n",
    "from keras.preprocessing.sequence import pad_sequences\n",
    "import numpy as np\n",
    "import nltk\n",
    "from konlpy.tag import Okt\n",
    "from tqdm import tqdm\n",
    "\n",
    "# train set\n",
    "name = \"2\"\n",
    "filename1 = './spy/spy/definition'+name+'_spynorth_scaling_trust.txt'\n",
    "filename2 = './spy/spy/definition'+name+'_spynorth_scaling_untrust.txt'\n",
    "\n",
    "\n",
    "with codecs.open(filename1, 'r', encoding='utf-8') as f:\n",
    "    lines1 = f.readlines()\n",
    "with codecs.open(filename2, 'r', encoding='utf-8') as f:\n",
    "    lines2 = f.readlines()\n",
    "\n",
    "\n",
    "\n",
    "\n",
    "# test set\n",
    "\n",
    "\n",
    "with codecs.open('./spy/spy/definition'+name+'_spynorth_test_t.txt', 'r', 'utf-8') as f:\n",
    "    test1 = f.readlines()\n",
    "with codecs.open('./spy/spy/definition'+name+'_spynorth_test_ut.txt', 'r', 'utf-8') as f:\n",
    "    test2 = f.readlines()\n",
    "\n",
    "\n",
    "    \n",
    "\n"
   ]
  },
  {
   "cell_type": "markdown",
   "id": "932e5a53",
   "metadata": {},
   "source": [
    "## movie 1"
   ]
  },
  {
   "cell_type": "code",
   "execution_count": 12,
   "id": "58f4566f",
   "metadata": {},
   "outputs": [
    {
     "name": "stderr",
     "output_type": "stream",
     "text": [
      "100%|██████████████████████████████████████████████████████████████████████████████| 9120/9120 [27:14<00:00,  5.58it/s]\n",
      "100%|██████████████████████████████████████████████████████████████████████████████| 2280/2280 [08:02<00:00,  4.72it/s]\n"
     ]
    }
   ],
   "source": [
    "lines_t = lines1[:4560]\n",
    "lines_ut = lines2[:4560]\n",
    "test_t = test1[:1140]\n",
    "test_ut = test2[:1140]\n",
    "\n",
    "lines_ = []\n",
    "test_lines_ = []\n",
    "for line in lines_t:\n",
    "    lines_.append(line.strip())\n",
    "\n",
    "for line in lines_ut:\n",
    "    lines_.append(line.strip())\n",
    "\n",
    "for line in test_t:\n",
    "    test_lines_.append(line.strip()) # trust\n",
    "for line in test_ut:\n",
    "    test_lines_.append(line.strip()) # untrust\n",
    "\n",
    "train_labels = [] # train 데이터 label\n",
    "test_labels = [] # test 데이터 label\n",
    "for i in range(len(lines_t)):\n",
    "    train_labels.append(0)\n",
    "for j in range(len(lines_ut)):\n",
    "    train_labels.append(1)\n",
    "for i in range(len(test_t)):\n",
    "    test_labels.append(0)\n",
    "for j in range(len(test_ut)):\n",
    "    test_labels.append(1)\n",
    "    \n",
    "from keras.preprocessing.text import Tokenizer\n",
    "from keras.preprocessing.sequence import pad_sequences\n",
    "import numpy as np\n",
    "\n",
    "okt = Okt()\n",
    "x_train = []\n",
    "x_test = []\n",
    "stopwords = ['의','가','이','은','들','는','좀','잘','걍','과','도','를','으로','자','에','와','한','하다']\n",
    "\n",
    "for sentence in tqdm(lines_):\n",
    "    tokenized_sentence = okt.morphs(sentence, stem=True) # 토큰화\n",
    "    stopwords_removed_sentence = [word for word in tokenized_sentence if not word in stopwords] # 불용어 제거\n",
    "    x_train.append(stopwords_removed_sentence)\n",
    "\n",
    "for sentence in tqdm(test_lines_):\n",
    "    tokenized_sentence = okt.morphs(sentence, stem=True) # 토큰화\n",
    "    stopwords_removed_sentence = [word for word in tokenized_sentence if not word in stopwords] # 불용어 제거\n",
    "    x_test.append(stopwords_removed_sentence)\n",
    "\n",
    "maxlen = 1000  # 100개 단어 이후는 버립니다\n",
    "training_samples = 200  # 훈련 샘플은 200 -> 200개입니다\n",
    "validation_samples = 10000  # 검증 샘플은 10,000개입니다\n",
    "max_words = 10000  # 데이터셋에서 가장 빈도 높은 10,000개의 단어만 사용합니다\n",
    "# train 토큰화\n",
    "tokenizer = Tokenizer(num_words=max_words)\n",
    "tokenizer.fit_on_texts(x_train)\n",
    "sequences = tokenizer.texts_to_sequences(x_train)\n",
    "\n",
    "word_index = tokenizer.word_index\n",
    "train = pad_sequences(sequences,maxlen=maxlen)\n",
    "\n",
    "# test 토큰화\n",
    "tokenizer2 = Tokenizer(num_words=max_words)\n",
    "tokenizer2.fit_on_texts(x_test)\n",
    "sequences2 = tokenizer2.texts_to_sequences(x_test)\n",
    "\n",
    "word_index2 = tokenizer2.word_index\n",
    "test = pad_sequences(sequences2,maxlen=maxlen)\n",
    "\n",
    "train_labels = np.asarray(train_labels)\n",
    "test_labels = np.asarray(test_labels)"
   ]
  },
  {
   "cell_type": "markdown",
   "id": "710ac5c3",
   "metadata": {},
   "source": [
    "### simpleRNN"
   ]
  },
  {
   "cell_type": "code",
   "execution_count": 13,
   "id": "05ae0ce1",
   "metadata": {},
   "outputs": [
    {
     "name": "stdout",
     "output_type": "stream",
     "text": [
      "Epoch 1/10\n",
      "57/57 [==============================] - 21s 283ms/step - loss: 0.6668 - acc: 0.6149 - val_loss: 0.9987 - val_acc: 0.0000e+00\n",
      "Epoch 2/10\n",
      "57/57 [==============================] - 14s 247ms/step - loss: 0.6239 - acc: 0.6531 - val_loss: 0.9870 - val_acc: 0.0389\n",
      "Epoch 3/10\n",
      "57/57 [==============================] - 14s 244ms/step - loss: 0.5223 - acc: 0.7791 - val_loss: 1.1244 - val_acc: 0.1162\n",
      "Epoch 4/10\n",
      "57/57 [==============================] - 14s 241ms/step - loss: 0.3801 - acc: 0.8840 - val_loss: 1.0849 - val_acc: 0.2785\n",
      "Epoch 5/10\n",
      "57/57 [==============================] - 15s 263ms/step - loss: 0.2348 - acc: 0.9522 - val_loss: 1.2701 - val_acc: 0.2862\n",
      "Epoch 6/10\n",
      "57/57 [==============================] - 14s 253ms/step - loss: 0.1193 - acc: 0.9831 - val_loss: 1.3038 - val_acc: 0.3728\n",
      "Epoch 7/10\n",
      "57/57 [==============================] - 15s 261ms/step - loss: 0.0582 - acc: 0.9949 - val_loss: 1.5270 - val_acc: 0.3344\n",
      "Epoch 8/10\n",
      "57/57 [==============================] - 14s 238ms/step - loss: 0.0235 - acc: 0.9988 - val_loss: 1.9700 - val_acc: 0.3065\n",
      "Epoch 9/10\n",
      "57/57 [==============================] - 14s 249ms/step - loss: 0.2197 - acc: 0.8947 - val_loss: 0.2246 - val_acc: 0.9364\n",
      "Epoch 10/10\n",
      "57/57 [==============================] - 14s 239ms/step - loss: 0.8208 - acc: 0.6501 - val_loss: 4.1784 - val_acc: 0.0104\n"
     ]
    },
    {
     "data": {
      "image/png": "[encoded data removed]",
      "text/plain": [
       "<Figure size 432x288 with 1 Axes>"
      ]
     },
     "metadata": {
      "needs_background": "light"
     },
     "output_type": "display_data"
    },
    {
     "data": {
      "image/png": "[encoded data removed]",
      "text/plain": [
       "<Figure size 432x288 with 1 Axes>"
      ]
     },
     "metadata": {
      "needs_background": "light"
     },
     "output_type": "display_data"
    },
    {
     "name": "stdout",
     "output_type": "stream",
     "text": [
      "72/72 [==============================] - 2s 33ms/step - loss: 1.9330 - acc: 0.4820\n"
     ]
    },
    {
     "data": {
      "text/plain": [
       "[1.9329506158828735, 0.48201754689216614]"
      ]
     },
     "execution_count": 13,
     "metadata": {},
     "output_type": "execute_result"
    }
   ],
   "source": [
    "from keras.preprocessing import sequence\n",
    "from tensorflow.python.keras.callbacks import EarlyStopping, ModelCheckpoint\n",
    "\n",
    "max_features = 10000  # 특성으로 사용할 단어의 수\n",
    "\n",
    "batch_size = 32\n",
    "input_train = sequence.pad_sequences(train,maxlen=maxlen)\n",
    "input_test = sequence.pad_sequences(test,maxlen=maxlen)\n",
    "\n",
    "from keras.models import Sequential\n",
    "from keras.layers import Embedding, SimpleRNN\n",
    "\n",
    "from keras.layers import Dense\n",
    "\n",
    "model = Sequential()\n",
    "model.add(Embedding(max_features, 32))\n",
    "model.add(SimpleRNN(32))\n",
    "model.add(Dense(1, activation='sigmoid'))\n",
    "mc = ModelCheckpoint('best_simpleRNN1.h5', monitor='val_acc', mode='max', verbose=1, save_best_only=True)\n",
    "model.compile(optimizer='rmsprop', loss='binary_crossentropy', metrics=['acc'])\n",
    "history = model.fit(input_train, train_labels,\n",
    "                    epochs=10,\n",
    "                    batch_size=128,\n",
    "                    validation_split=0.2)\n",
    "\n",
    "import matplotlib.pyplot as plt\n",
    "\n",
    "acc = history.history['acc']\n",
    "val_acc = history.history['val_acc']\n",
    "loss = history.history['loss']\n",
    "val_loss = history.history['val_loss']\n",
    "\n",
    "epochs = range(1, len(acc) + 1)\n",
    "\n",
    "plt.plot(epochs, acc, 'bo', label='Training acc')\n",
    "plt.plot(epochs, val_acc, 'b', label='Validation acc')\n",
    "plt.title('Training and validation accuracy')\n",
    "plt.legend()\n",
    "\n",
    "plt.figure()\n",
    "\n",
    "plt.plot(epochs, loss, 'bo', label='Training loss')\n",
    "plt.plot(epochs, val_loss, 'b', label='Validation loss')\n",
    "plt.title('Training and validation loss')\n",
    "plt.legend()\n",
    "\n",
    "plt.show()\n",
    "\n",
    "model.evaluate(test, test_labels)"
   ]
  },
  {
   "cell_type": "markdown",
   "id": "c8cfb930",
   "metadata": {},
   "source": [
    "### LSTM"
   ]
  },
  {
   "cell_type": "code",
   "execution_count": 14,
   "id": "31ee423f",
   "metadata": {},
   "outputs": [
    {
     "name": "stdout",
     "output_type": "stream",
     "text": [
      "Epoch 1/10\n",
      "57/57 [==============================] - 38s 575ms/step - loss: 0.6639 - acc: 0.6231 - val_loss: 0.9736 - val_acc: 0.0000e+00\n",
      "Epoch 2/10\n",
      "57/57 [==============================] - 30s 536ms/step - loss: 0.6261 - acc: 0.6358 - val_loss: 1.0358 - val_acc: 0.1135\n",
      "Epoch 3/10\n",
      "57/57 [==============================] - 31s 550ms/step - loss: 0.5727 - acc: 0.7175 - val_loss: 0.8515 - val_acc: 0.4803\n",
      "Epoch 4/10\n",
      "57/57 [==============================] - 31s 547ms/step - loss: 0.5101 - acc: 0.7656 - val_loss: 0.6979 - val_acc: 0.6765\n",
      "Epoch 5/10\n",
      "57/57 [==============================] - 31s 553ms/step - loss: 0.4686 - acc: 0.7856 - val_loss: 1.1883 - val_acc: 0.3777\n",
      "Epoch 6/10\n",
      "57/57 [==============================] - 31s 535ms/step - loss: 0.4209 - acc: 0.8176 - val_loss: 1.1206 - val_acc: 0.4731\n",
      "Epoch 7/10\n",
      "57/57 [==============================] - 31s 542ms/step - loss: 0.3829 - acc: 0.8410 - val_loss: 1.2777 - val_acc: 0.3273\n",
      "Epoch 8/10\n",
      "57/57 [==============================] - 31s 538ms/step - loss: 0.3491 - acc: 0.8539 - val_loss: 1.1706 - val_acc: 0.4375\n",
      "Epoch 9/10\n",
      "57/57 [==============================] - 30s 522ms/step - loss: 0.3198 - acc: 0.8717 - val_loss: 1.2462 - val_acc: 0.4786\n",
      "Epoch 10/10\n",
      "57/57 [==============================] - 27s 477ms/step - loss: 0.2801 - acc: 0.8932 - val_loss: 1.0904 - val_acc: 0.5433\n"
     ]
    },
    {
     "data": {
      "image/png": "[encoded data removed]",
      "text/plain": [
       "<Figure size 432x288 with 1 Axes>"
      ]
     },
     "metadata": {
      "needs_background": "light"
     },
     "output_type": "display_data"
    },
    {
     "data": {
      "image/png": "[encoded data removed]",
      "text/plain": [
       "<Figure size 432x288 with 1 Axes>"
      ]
     },
     "metadata": {
      "needs_background": "light"
     },
     "output_type": "display_data"
    },
    {
     "name": "stdout",
     "output_type": "stream",
     "text": [
      "72/72 [==============================] - 5s 62ms/step - loss: 1.0670 - acc: 0.5105\n"
     ]
    },
    {
     "data": {
      "text/plain": [
       "[1.0670394897460938, 0.5105262994766235]"
      ]
     },
     "execution_count": 14,
     "metadata": {},
     "output_type": "execute_result"
    }
   ],
   "source": [
    "# LSTM\n",
    "from keras.layers import LSTM\n",
    "from tensorflow.python.keras.callbacks import EarlyStopping, ModelCheckpoint\n",
    "\n",
    "model = Sequential()\n",
    "model.add(Embedding(max_features, 32))\n",
    "model.add(LSTM(32))\n",
    "model.add(Dense(1, activation='sigmoid'))\n",
    "mc = ModelCheckpoint('best_lstm1.h5', monitor='val_acc', mode='max', verbose=1, save_best_only=True)\n",
    "model.compile(optimizer='rmsprop',\n",
    "              loss='binary_crossentropy',\n",
    "              metrics=['acc'])\n",
    "history = model.fit(input_train, train_labels,\n",
    "                    epochs=10,\n",
    "                    batch_size=128,\n",
    "                    validation_split=0.2)\n",
    "\n",
    "import matplotlib.pyplot as plt\n",
    "\n",
    "acc = history.history['acc']\n",
    "val_acc = history.history['val_acc']\n",
    "loss = history.history['loss']\n",
    "val_loss = history.history['val_loss']\n",
    "\n",
    "epochs = range(1, len(acc) + 1)\n",
    "\n",
    "plt.plot(epochs, acc, 'bo', label='Training acc')\n",
    "plt.plot(epochs, val_acc, 'b', label='Validation acc')\n",
    "plt.title('Training and validation accuracy')\n",
    "plt.legend()\n",
    "\n",
    "plt.figure()\n",
    "\n",
    "plt.plot(epochs, loss, 'bo', label='Training loss')\n",
    "plt.plot(epochs, val_loss, 'b', label='Validation loss')\n",
    "plt.title('Training and validation loss')\n",
    "plt.legend()\n",
    "\n",
    "plt.show()\n",
    "\n",
    "model.evaluate(test, test_labels)"
   ]
  },
  {
   "cell_type": "markdown",
   "id": "dd74b4b6",
   "metadata": {},
   "source": [
    "## movie 2"
   ]
  },
  {
   "cell_type": "code",
   "execution_count": 15,
   "id": "22f9ffc4",
   "metadata": {},
   "outputs": [
    {
     "name": "stderr",
     "output_type": "stream",
     "text": [
      "100%|██████████████████████████████████████████████████████████████████████████████| 7520/7520 [23:46<00:00,  5.27it/s]\n",
      "100%|██████████████████████████████████████████████████████████████████████████████| 1880/1880 [08:04<00:00,  3.88it/s]\n"
     ]
    }
   ],
   "source": [
    "lines_t = lines1[:3760]\n",
    "lines_ut = lines2[:3760]\n",
    "test_t = test1[:940]\n",
    "test_ut = test2[:940]\n",
    "\n",
    "lines_ = []\n",
    "test_lines_ = []\n",
    "for line in lines_t:\n",
    "    lines_.append(line.strip())\n",
    "\n",
    "for line in lines_ut:\n",
    "    lines_.append(line.strip())\n",
    "\n",
    "for line in test_t:\n",
    "    test_lines_.append(line.strip()) # trust\n",
    "for line in test_ut:\n",
    "    test_lines_.append(line.strip()) # untrust\n",
    "\n",
    "train_labels = [] # train 데이터 label\n",
    "test_labels = [] # test 데이터 label\n",
    "for i in range(len(lines_t)):\n",
    "    train_labels.append(0)\n",
    "for j in range(len(lines_ut)):\n",
    "    train_labels.append(1)\n",
    "for i in range(len(test_t)):\n",
    "    test_labels.append(0)\n",
    "for j in range(len(test_ut)):\n",
    "    test_labels.append(1)\n",
    "    \n",
    "from keras.preprocessing.text import Tokenizer\n",
    "from keras.preprocessing.sequence import pad_sequences\n",
    "import numpy as np\n",
    "\n",
    "okt = Okt()\n",
    "x_train = []\n",
    "x_test = []\n",
    "stopwords = ['의','가','이','은','들','는','좀','잘','걍','과','도','를','으로','자','에','와','한','하다']\n",
    "\n",
    "for sentence in tqdm(lines_):\n",
    "    tokenized_sentence = okt.morphs(sentence, stem=True) # 토큰화\n",
    "    stopwords_removed_sentence = [word for word in tokenized_sentence if not word in stopwords] # 불용어 제거\n",
    "    x_train.append(stopwords_removed_sentence)\n",
    "\n",
    "for sentence in tqdm(test_lines_):\n",
    "    tokenized_sentence = okt.morphs(sentence, stem=True) # 토큰화\n",
    "    stopwords_removed_sentence = [word for word in tokenized_sentence if not word in stopwords] # 불용어 제거\n",
    "    x_test.append(stopwords_removed_sentence)\n",
    "\n",
    "maxlen = 1000  # 100개 단어 이후는 버립니다\n",
    "training_samples = 200  # 훈련 샘플은 200 -> 200개입니다\n",
    "validation_samples = 10000  # 검증 샘플은 10,000개입니다\n",
    "max_words = 10000  # 데이터셋에서 가장 빈도 높은 10,000개의 단어만 사용합니다\n",
    "# train 토큰화\n",
    "tokenizer = Tokenizer(num_words=max_words)\n",
    "tokenizer.fit_on_texts(x_train)\n",
    "sequences = tokenizer.texts_to_sequences(x_train)\n",
    "\n",
    "word_index = tokenizer.word_index\n",
    "train = pad_sequences(sequences,maxlen=maxlen)\n",
    "\n",
    "# test 토큰화\n",
    "tokenizer2 = Tokenizer(num_words=max_words)\n",
    "tokenizer2.fit_on_texts(x_test)\n",
    "sequences2 = tokenizer2.texts_to_sequences(x_test)\n",
    "\n",
    "word_index2 = tokenizer2.word_index\n",
    "test = pad_sequences(sequences2,maxlen=maxlen)\n",
    "\n",
    "train_labels = np.asarray(train_labels)\n",
    "test_labels = np.asarray(test_labels)"
   ]
  },
  {
   "cell_type": "markdown",
   "id": "44fdaa81",
   "metadata": {},
   "source": [
    "### simpleRNN"
   ]
  },
  {
   "cell_type": "code",
   "execution_count": 16,
   "id": "7cafcec8",
   "metadata": {},
   "outputs": [
    {
     "name": "stdout",
     "output_type": "stream",
     "text": [
      "Epoch 1/10\n",
      "47/47 [==============================] - 21s 296ms/step - loss: 0.6659 - acc: 0.6144 - val_loss: 0.9428 - val_acc: 0.0040\n",
      "Epoch 2/10\n",
      "47/47 [==============================] - 11s 233ms/step - loss: 0.5945 - acc: 0.6905 - val_loss: 0.9648 - val_acc: 0.1529\n",
      "Epoch 3/10\n",
      "47/47 [==============================] - 11s 224ms/step - loss: 0.4658 - acc: 0.8314 - val_loss: 0.8907 - val_acc: 0.3677\n",
      "Epoch 4/10\n",
      "47/47 [==============================] - 11s 228ms/step - loss: 0.3429 - acc: 0.9044 - val_loss: 0.4928 - val_acc: 0.8211\n",
      "Epoch 5/10\n",
      "47/47 [==============================] - 11s 228ms/step - loss: 0.3520 - acc: 0.8728 - val_loss: 0.8836 - val_acc: 0.4834\n",
      "Epoch 6/10\n",
      "47/47 [==============================] - 11s 226ms/step - loss: 0.1790 - acc: 0.9722 - val_loss: 1.1070 - val_acc: 0.4043\n",
      "Epoch 7/10\n",
      "47/47 [==============================] - 11s 226ms/step - loss: 0.1223 - acc: 0.9777 - val_loss: 1.0878 - val_acc: 0.4415\n",
      "Epoch 8/10\n",
      "47/47 [==============================] - 10s 216ms/step - loss: 0.0545 - acc: 0.9953 - val_loss: 1.2382 - val_acc: 0.4415\n",
      "Epoch 9/10\n",
      "47/47 [==============================] - 9s 196ms/step - loss: 0.0485 - acc: 0.9867 - val_loss: 0.4889 - val_acc: 0.8112\n",
      "Epoch 10/10\n",
      "47/47 [==============================] - 9s 197ms/step - loss: 0.3718 - acc: 0.8208 - val_loss: 1.4804 - val_acc: 0.3936\n"
     ]
    },
    {
     "data": {
      "image/png": "[encoded data removed]",
      "text/plain": [
       "<Figure size 432x288 with 1 Axes>"
      ]
     },
     "metadata": {
      "needs_background": "light"
     },
     "output_type": "display_data"
    },
    {
     "data": {
      "image/png": "[encoded data removed]",
      "text/plain": [
       "<Figure size 432x288 with 1 Axes>"
      ]
     },
     "metadata": {
      "needs_background": "light"
     },
     "output_type": "display_data"
    },
    {
     "name": "stdout",
     "output_type": "stream",
     "text": [
      "59/59 [==============================] - 2s 26ms/step - loss: 1.1164 - acc: 0.5239\n"
     ]
    },
    {
     "data": {
      "text/plain": [
       "[1.1163523197174072, 0.5239361524581909]"
      ]
     },
     "execution_count": 16,
     "metadata": {},
     "output_type": "execute_result"
    }
   ],
   "source": [
    "from keras.preprocessing import sequence\n",
    "from tensorflow.python.keras.callbacks import EarlyStopping, ModelCheckpoint\n",
    "\n",
    "max_features = 10000  # 특성으로 사용할 단어의 수\n",
    "\n",
    "batch_size = 32\n",
    "input_train = sequence.pad_sequences(train,maxlen=maxlen)\n",
    "input_test = sequence.pad_sequences(test,maxlen=maxlen)\n",
    "\n",
    "from keras.models import Sequential\n",
    "from keras.layers import Embedding, SimpleRNN\n",
    "\n",
    "from keras.layers import Dense\n",
    "\n",
    "model = Sequential()\n",
    "model.add(Embedding(max_features, 32))\n",
    "model.add(SimpleRNN(32))\n",
    "model.add(Dense(1, activation='sigmoid'))\n",
    "mc = ModelCheckpoint('best_simpleRNN1.h5', monitor='val_acc', mode='max', verbose=1, save_best_only=True)\n",
    "model.compile(optimizer='rmsprop', loss='binary_crossentropy', metrics=['acc'])\n",
    "history = model.fit(input_train, train_labels,\n",
    "                    epochs=10,\n",
    "                    batch_size=128,\n",
    "                    validation_split=0.2)\n",
    "\n",
    "import matplotlib.pyplot as plt\n",
    "\n",
    "acc = history.history['acc']\n",
    "val_acc = history.history['val_acc']\n",
    "loss = history.history['loss']\n",
    "val_loss = history.history['val_loss']\n",
    "\n",
    "epochs = range(1, len(acc) + 1)\n",
    "\n",
    "plt.plot(epochs, acc, 'bo', label='Training acc')\n",
    "plt.plot(epochs, val_acc, 'b', label='Validation acc')\n",
    "plt.title('Training and validation accuracy')\n",
    "plt.legend()\n",
    "\n",
    "plt.figure()\n",
    "\n",
    "plt.plot(epochs, loss, 'bo', label='Training loss')\n",
    "plt.plot(epochs, val_loss, 'b', label='Validation loss')\n",
    "plt.title('Training and validation loss')\n",
    "plt.legend()\n",
    "\n",
    "plt.show()\n",
    "\n",
    "model.evaluate(test, test_labels)"
   ]
  },
  {
   "cell_type": "markdown",
   "id": "4d214679",
   "metadata": {},
   "source": [
    "### LSTM"
   ]
  },
  {
   "cell_type": "code",
   "execution_count": 17,
   "id": "be972265",
   "metadata": {},
   "outputs": [
    {
     "name": "stdout",
     "output_type": "stream",
     "text": [
      "Epoch 1/10\n",
      "47/47 [==============================] - 29s 511ms/step - loss: 0.6640 - acc: 0.6197 - val_loss: 0.9059 - val_acc: 0.0000e+00\n",
      "Epoch 2/10\n",
      "47/47 [==============================] - 24s 503ms/step - loss: 0.6305 - acc: 0.6333 - val_loss: 0.9142 - val_acc: 0.0785\n",
      "Epoch 3/10\n",
      "47/47 [==============================] - 23s 486ms/step - loss: 0.5766 - acc: 0.7021 - val_loss: 0.9653 - val_acc: 0.2906\n",
      "Epoch 4/10\n",
      "47/47 [==============================] - 23s 488ms/step - loss: 0.5223 - acc: 0.7610 - val_loss: 0.8894 - val_acc: 0.4668\n",
      "Epoch 5/10\n",
      "47/47 [==============================] - 23s 490ms/step - loss: 0.4588 - acc: 0.7969 - val_loss: 0.7201 - val_acc: 0.6722\n",
      "Epoch 6/10\n",
      "47/47 [==============================] - 23s 483ms/step - loss: 0.4016 - acc: 0.8258 - val_loss: 1.1062 - val_acc: 0.4734\n",
      "Epoch 7/10\n",
      "47/47 [==============================] - 24s 504ms/step - loss: 0.3641 - acc: 0.8476 - val_loss: 1.0718 - val_acc: 0.5007\n",
      "Epoch 8/10\n",
      "47/47 [==============================] - 23s 483ms/step - loss: 0.3223 - acc: 0.8717 - val_loss: 1.0313 - val_acc: 0.5346\n",
      "Epoch 9/10\n",
      "47/47 [==============================] - 23s 488ms/step - loss: 0.2830 - acc: 0.8915 - val_loss: 1.5094 - val_acc: 0.4023\n",
      "Epoch 10/10\n",
      "47/47 [==============================] - 23s 496ms/step - loss: 0.2468 - acc: 0.9048 - val_loss: 1.2838 - val_acc: 0.5253\n"
     ]
    },
    {
     "data": {
      "image/png": "[encoded data removed]",
      "text/plain": [
       "<Figure size 432x288 with 1 Axes>"
      ]
     },
     "metadata": {
      "needs_background": "light"
     },
     "output_type": "display_data"
    },
    {
     "data": {
      "image/png": "[encoded data removed]",
      "text/plain": [
       "<Figure size 432x288 with 1 Axes>"
      ]
     },
     "metadata": {
      "needs_background": "light"
     },
     "output_type": "display_data"
    },
    {
     "name": "stdout",
     "output_type": "stream",
     "text": [
      "59/59 [==============================] - 4s 63ms/step - loss: 1.1020 - acc: 0.5239\n"
     ]
    },
    {
     "data": {
      "text/plain": [
       "[1.1020498275756836, 0.5239361524581909]"
      ]
     },
     "execution_count": 17,
     "metadata": {},
     "output_type": "execute_result"
    }
   ],
   "source": [
    "# LSTM\n",
    "from keras.layers import LSTM\n",
    "from tensorflow.python.keras.callbacks import EarlyStopping, ModelCheckpoint\n",
    "\n",
    "model = Sequential()\n",
    "model.add(Embedding(max_features, 32))\n",
    "model.add(LSTM(32))\n",
    "model.add(Dense(1, activation='sigmoid'))\n",
    "mc = ModelCheckpoint('best_lstm1.h5', monitor='val_acc', mode='max', verbose=1, save_best_only=True)\n",
    "model.compile(optimizer='rmsprop',\n",
    "              loss='binary_crossentropy',\n",
    "              metrics=['acc'])\n",
    "history = model.fit(input_train, train_labels,\n",
    "                    epochs=10,\n",
    "                    batch_size=128,\n",
    "                    validation_split=0.2)\n",
    "\n",
    "import matplotlib.pyplot as plt\n",
    "\n",
    "acc = history.history['acc']\n",
    "val_acc = history.history['val_acc']\n",
    "loss = history.history['loss']\n",
    "val_loss = history.history['val_loss']\n",
    "\n",
    "epochs = range(1, len(acc) + 1)\n",
    "\n",
    "plt.plot(epochs, acc, 'bo', label='Training acc')\n",
    "plt.plot(epochs, val_acc, 'b', label='Validation acc')\n",
    "plt.title('Training and validation accuracy')\n",
    "plt.legend()\n",
    "\n",
    "plt.figure()\n",
    "\n",
    "plt.plot(epochs, loss, 'bo', label='Training loss')\n",
    "plt.plot(epochs, val_loss, 'b', label='Validation loss')\n",
    "plt.title('Training and validation loss')\n",
    "plt.legend()\n",
    "\n",
    "plt.show()\n",
    "\n",
    "model.evaluate(test, test_labels)"
   ]
  },
  {
   "cell_type": "markdown",
   "id": "ee477aa6",
   "metadata": {},
   "source": [
    "## movie3"
   ]
  },
  {
   "cell_type": "code",
   "execution_count": 18,
   "id": "11b7437e",
   "metadata": {},
   "outputs": [
    {
     "name": "stderr",
     "output_type": "stream",
     "text": [
      "100%|██████████████████████████████████████████████████████████████████████████████| 5920/5920 [16:37<00:00,  5.93it/s]\n",
      "100%|██████████████████████████████████████████████████████████████████████████████| 1480/1480 [07:21<00:00,  3.35it/s]\n"
     ]
    }
   ],
   "source": [
    "lines_t = lines1[:2960]\n",
    "lines_ut = lines2[:2960]\n",
    "test_t = test1[:740]\n",
    "test_ut = test2[:740]\n",
    "\n",
    "lines_ = []\n",
    "test_lines_ = []\n",
    "for line in lines_t:\n",
    "    lines_.append(line.strip())\n",
    "\n",
    "for line in lines_ut:\n",
    "    lines_.append(line.strip())\n",
    "\n",
    "for line in test_t:\n",
    "    test_lines_.append(line.strip()) # trust\n",
    "for line in test_ut:\n",
    "    test_lines_.append(line.strip()) # untrust\n",
    "\n",
    "train_labels = [] # train 데이터 label\n",
    "test_labels = [] # test 데이터 label\n",
    "for i in range(len(lines_t)):\n",
    "    train_labels.append(0)\n",
    "for j in range(len(lines_ut)):\n",
    "    train_labels.append(1)\n",
    "for i in range(len(test_t)):\n",
    "    test_labels.append(0)\n",
    "for j in range(len(test_ut)):\n",
    "    test_labels.append(1)\n",
    "    \n",
    "from keras.preprocessing.text import Tokenizer\n",
    "from keras.preprocessing.sequence import pad_sequences\n",
    "import numpy as np\n",
    "\n",
    "okt = Okt()\n",
    "x_train = []\n",
    "x_test = []\n",
    "stopwords = ['의','가','이','은','들','는','좀','잘','걍','과','도','를','으로','자','에','와','한','하다']\n",
    "\n",
    "for sentence in tqdm(lines_):\n",
    "    tokenized_sentence = okt.morphs(sentence, stem=True) # 토큰화\n",
    "    stopwords_removed_sentence = [word for word in tokenized_sentence if not word in stopwords] # 불용어 제거\n",
    "    x_train.append(stopwords_removed_sentence)\n",
    "\n",
    "for sentence in tqdm(test_lines_):\n",
    "    tokenized_sentence = okt.morphs(sentence, stem=True) # 토큰화\n",
    "    stopwords_removed_sentence = [word for word in tokenized_sentence if not word in stopwords] # 불용어 제거\n",
    "    x_test.append(stopwords_removed_sentence)\n",
    "\n",
    "maxlen = 1000  # 100개 단어 이후는 버립니다\n",
    "training_samples = 200  # 훈련 샘플은 200 -> 200개입니다\n",
    "validation_samples = 10000  # 검증 샘플은 10,000개입니다\n",
    "max_words = 10000  # 데이터셋에서 가장 빈도 높은 10,000개의 단어만 사용합니다\n",
    "# train 토큰화\n",
    "tokenizer = Tokenizer(num_words=max_words)\n",
    "tokenizer.fit_on_texts(x_train)\n",
    "sequences = tokenizer.texts_to_sequences(x_train)\n",
    "\n",
    "word_index = tokenizer.word_index\n",
    "train = pad_sequences(sequences,maxlen=maxlen)\n",
    "\n",
    "# test 토큰화\n",
    "tokenizer2 = Tokenizer(num_words=max_words)\n",
    "tokenizer2.fit_on_texts(x_test)\n",
    "sequences2 = tokenizer2.texts_to_sequences(x_test)\n",
    "\n",
    "word_index2 = tokenizer2.word_index\n",
    "test = pad_sequences(sequences2,maxlen=maxlen)\n",
    "\n",
    "train_labels = np.asarray(train_labels)\n",
    "test_labels = np.asarray(test_labels)"
   ]
  },
  {
   "cell_type": "markdown",
   "id": "2db0d7bb",
   "metadata": {},
   "source": [
    "### simpleRNN"
   ]
  },
  {
   "cell_type": "code",
   "execution_count": 19,
   "id": "5fd15862",
   "metadata": {},
   "outputs": [
    {
     "name": "stdout",
     "output_type": "stream",
     "text": [
      "Epoch 1/10\n",
      "37/37 [==============================] - 15s 243ms/step - loss: 0.6677 - acc: 0.6201 - val_loss: 1.0481 - val_acc: 0.0000e+00\n",
      "Epoch 2/10\n",
      "37/37 [==============================] - 7s 196ms/step - loss: 0.6096 - acc: 0.6725 - val_loss: 1.0033 - val_acc: 0.0811\n",
      "Epoch 3/10\n",
      "37/37 [==============================] - 7s 203ms/step - loss: 0.4833 - acc: 0.8247 - val_loss: 0.9440 - val_acc: 0.2559\n",
      "Epoch 4/10\n",
      "37/37 [==============================] - 7s 197ms/step - loss: 0.3425 - acc: 0.9191 - val_loss: 0.9048 - val_acc: 0.4122\n",
      "Epoch 5/10\n",
      "37/37 [==============================] - 7s 199ms/step - loss: 0.2890 - acc: 0.9198 - val_loss: 0.9148 - val_acc: 0.4383\n",
      "Epoch 6/10\n",
      "37/37 [==============================] - 7s 198ms/step - loss: 0.1751 - acc: 0.9730 - val_loss: 1.2354 - val_acc: 0.3133\n",
      "Epoch 7/10\n",
      "37/37 [==============================] - 7s 198ms/step - loss: 0.1108 - acc: 0.9861 - val_loss: 1.2022 - val_acc: 0.3860\n",
      "Epoch 8/10\n",
      "37/37 [==============================] - 7s 193ms/step - loss: 0.0590 - acc: 0.9956 - val_loss: 1.2668 - val_acc: 0.3961\n",
      "Epoch 9/10\n",
      "37/37 [==============================] - 7s 192ms/step - loss: 0.0350 - acc: 0.9970 - val_loss: 2.5104 - val_acc: 0.1436\n",
      "Epoch 10/10\n",
      "37/37 [==============================] - 7s 195ms/step - loss: 0.0285 - acc: 0.9964 - val_loss: 1.8518 - val_acc: 0.3142\n"
     ]
    },
    {
     "data": {
      "image/png": "[encoded data removed]",
      "text/plain": [
       "<Figure size 432x288 with 1 Axes>"
      ]
     },
     "metadata": {
      "needs_background": "light"
     },
     "output_type": "display_data"
    },
    {
     "data": {
      "image/png": "[encoded data removed]",
      "text/plain": [
       "<Figure size 432x288 with 1 Axes>"
      ]
     },
     "metadata": {
      "needs_background": "light"
     },
     "output_type": "display_data"
    },
    {
     "name": "stdout",
     "output_type": "stream",
     "text": [
      "47/47 [==============================] - 2s 52ms/step - loss: 1.2404 - acc: 0.5041\n"
     ]
    },
    {
     "data": {
      "text/plain": [
       "[1.2404261827468872, 0.504054069519043]"
      ]
     },
     "execution_count": 19,
     "metadata": {},
     "output_type": "execute_result"
    }
   ],
   "source": [
    "from keras.preprocessing import sequence\n",
    "from tensorflow.python.keras.callbacks import EarlyStopping, ModelCheckpoint\n",
    "\n",
    "max_features = 10000  # 특성으로 사용할 단어의 수\n",
    "\n",
    "batch_size = 32\n",
    "input_train = sequence.pad_sequences(train,maxlen=maxlen)\n",
    "input_test = sequence.pad_sequences(test,maxlen=maxlen)\n",
    "\n",
    "from keras.models import Sequential\n",
    "from keras.layers import Embedding, SimpleRNN\n",
    "\n",
    "from keras.layers import Dense\n",
    "\n",
    "model = Sequential()\n",
    "model.add(Embedding(max_features, 32))\n",
    "model.add(SimpleRNN(32))\n",
    "model.add(Dense(1, activation='sigmoid'))\n",
    "mc = ModelCheckpoint('best_simpleRNN1.h5', monitor='val_acc', mode='max', verbose=1, save_best_only=True)\n",
    "model.compile(optimizer='rmsprop', loss='binary_crossentropy', metrics=['acc'])\n",
    "history = model.fit(input_train, train_labels,\n",
    "                    epochs=10,\n",
    "                    batch_size=128,\n",
    "                    validation_split=0.2)\n",
    "\n",
    "import matplotlib.pyplot as plt\n",
    "\n",
    "acc = history.history['acc']\n",
    "val_acc = history.history['val_acc']\n",
    "loss = history.history['loss']\n",
    "val_loss = history.history['val_loss']\n",
    "\n",
    "epochs = range(1, len(acc) + 1)\n",
    "\n",
    "plt.plot(epochs, acc, 'bo', label='Training acc')\n",
    "plt.plot(epochs, val_acc, 'b', label='Validation acc')\n",
    "plt.title('Training and validation accuracy')\n",
    "plt.legend()\n",
    "\n",
    "plt.figure()\n",
    "\n",
    "plt.plot(epochs, loss, 'bo', label='Training loss')\n",
    "plt.plot(epochs, val_loss, 'b', label='Validation loss')\n",
    "plt.title('Training and validation loss')\n",
    "plt.legend()\n",
    "\n",
    "plt.show()\n",
    "\n",
    "model.evaluate(test, test_labels)"
   ]
  },
  {
   "cell_type": "markdown",
   "id": "0de47c93",
   "metadata": {},
   "source": [
    "### LSTM"
   ]
  },
  {
   "cell_type": "code",
   "execution_count": 20,
   "id": "a5993281",
   "metadata": {},
   "outputs": [
    {
     "name": "stdout",
     "output_type": "stream",
     "text": [
      "Epoch 1/10\n",
      "37/37 [==============================] - 22s 498ms/step - loss: 0.6660 - acc: 0.6212 - val_loss: 0.9581 - val_acc: 0.0000e+00\n",
      "Epoch 2/10\n",
      "37/37 [==============================] - 17s 473ms/step - loss: 0.6316 - acc: 0.6277 - val_loss: 1.0325 - val_acc: 0.0346\n",
      "Epoch 3/10\n",
      "37/37 [==============================] - 17s 467ms/step - loss: 0.5805 - acc: 0.6915 - val_loss: 0.9577 - val_acc: 0.2694\n",
      "Epoch 4/10\n",
      "37/37 [==============================] - 17s 472ms/step - loss: 0.5124 - acc: 0.7774 - val_loss: 1.1065 - val_acc: 0.4096\n",
      "Epoch 5/10\n",
      "37/37 [==============================] - 17s 470ms/step - loss: 0.4566 - acc: 0.8057 - val_loss: 0.8393 - val_acc: 0.5777\n",
      "Epoch 6/10\n",
      "37/37 [==============================] - 17s 468ms/step - loss: 0.3859 - acc: 0.8438 - val_loss: 0.8678 - val_acc: 0.6394\n",
      "Epoch 7/10\n",
      "37/37 [==============================] - 17s 472ms/step - loss: 0.3423 - acc: 0.8653 - val_loss: 1.0884 - val_acc: 0.5448\n",
      "Epoch 8/10\n",
      "37/37 [==============================] - 17s 473ms/step - loss: 0.2835 - acc: 0.8913 - val_loss: 0.9407 - val_acc: 0.6022\n",
      "Epoch 9/10\n",
      "37/37 [==============================] - 18s 475ms/step - loss: 0.2377 - acc: 0.9134 - val_loss: 0.9184 - val_acc: 0.6410\n",
      "Epoch 10/10\n",
      "37/37 [==============================] - 17s 466ms/step - loss: 0.2045 - acc: 0.9272 - val_loss: 1.5856 - val_acc: 0.4975\n"
     ]
    },
    {
     "data": {
      "image/png": "[encoded data removed]",
      "text/plain": [
       "<Figure size 432x288 with 1 Axes>"
      ]
     },
     "metadata": {
      "needs_background": "light"
     },
     "output_type": "display_data"
    },
    {
     "data": {
      "image/png": "[encoded data removed]",
      "text/plain": [
       "<Figure size 432x288 with 1 Axes>"
      ]
     },
     "metadata": {
      "needs_background": "light"
     },
     "output_type": "display_data"
    },
    {
     "name": "stdout",
     "output_type": "stream",
     "text": [
      "47/47 [==============================] - 3s 60ms/step - loss: 1.2939 - acc: 0.5054\n"
     ]
    },
    {
     "data": {
      "text/plain": [
       "[1.293870210647583, 0.5054054260253906]"
      ]
     },
     "execution_count": 20,
     "metadata": {},
     "output_type": "execute_result"
    }
   ],
   "source": [
    "# LSTM\n",
    "from keras.layers import LSTM\n",
    "from tensorflow.python.keras.callbacks import EarlyStopping, ModelCheckpoint\n",
    "\n",
    "model = Sequential()\n",
    "model.add(Embedding(max_features, 32))\n",
    "model.add(LSTM(32))\n",
    "model.add(Dense(1, activation='sigmoid'))\n",
    "mc = ModelCheckpoint('best_lstm1.h5', monitor='val_acc', mode='max', verbose=1, save_best_only=True)\n",
    "model.compile(optimizer='rmsprop',\n",
    "              loss='binary_crossentropy',\n",
    "              metrics=['acc'])\n",
    "history = model.fit(input_train, train_labels,\n",
    "                    epochs=10,\n",
    "                    batch_size=128,\n",
    "                    validation_split=0.2)\n",
    "\n",
    "import matplotlib.pyplot as plt\n",
    "\n",
    "acc = history.history['acc']\n",
    "val_acc = history.history['val_acc']\n",
    "loss = history.history['loss']\n",
    "val_loss = history.history['val_loss']\n",
    "\n",
    "epochs = range(1, len(acc) + 1)\n",
    "\n",
    "plt.plot(epochs, acc, 'bo', label='Training acc')\n",
    "plt.plot(epochs, val_acc, 'b', label='Validation acc')\n",
    "plt.title('Training and validation accuracy')\n",
    "plt.legend()\n",
    "\n",
    "plt.figure()\n",
    "\n",
    "plt.plot(epochs, loss, 'bo', label='Training loss')\n",
    "plt.plot(epochs, val_loss, 'b', label='Validation loss')\n",
    "plt.title('Training and validation loss')\n",
    "plt.legend()\n",
    "\n",
    "plt.show()\n",
    "\n",
    "model.evaluate(test, test_labels)"
   ]
  },
  {
   "cell_type": "markdown",
   "id": "75b395f9",
   "metadata": {},
   "source": [
    "# definition 2"
   ]
  },
  {
   "cell_type": "code",
   "execution_count": null,
   "id": "2e9d8141",
   "metadata": {},
   "outputs": [],
   "source": []
  }
 ],
 "metadata": {
  "kernelspec": {
   "display_name": "Python 3 (ipykernel)",
   "language": "python",
   "name": "python3"
  },
  "language_info": {
   "codemirror_mode": {
    "name": "ipython",
    "version": 3
   },
   "file_extension": ".py",
   "mimetype": "text/x-python",
   "name": "python",
   "nbconvert_exporter": "python",
   "pygments_lexer": "ipython3",
   "version": "3.9.7"
  },
  "toc": {
   "base_numbering": 1,
   "nav_menu": {},
   "number_sections": true,
   "sideBar": true,
   "skip_h1_title": false,
   "title_cell": "Table of Contents",
   "title_sidebar": "Contents",
   "toc_cell": false,
   "toc_position": {},
   "toc_section_display": true,
   "toc_window_display": true
  }
 },
 "nbformat": 4,
 "nbformat_minor": 5
}
